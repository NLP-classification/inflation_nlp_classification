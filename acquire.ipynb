{
 "cells": [
  {
   "cell_type": "code",
   "execution_count": 27,
   "id": "f395dd23",
   "metadata": {},
   "outputs": [],
   "source": [
    "import os\n",
    "import json\n",
    "from typing import Dict, List, Optional, Union, cast\n",
    "from IPython.display import display\n",
    "from ipywidgets import IntProgress\n",
    "import requests\n",
    "import pandas as pd\n",
    "from bs4 import BeautifulSoup\n",
    "\n",
    "import time\n",
    "from requests import get\n",
    "from env import github_token, github_username"
   ]
  },
  {
   "cell_type": "markdown",
   "id": "415bbbae",
   "metadata": {},
   "source": [
    "## Get repo name"
   ]
  },
  {
   "cell_type": "code",
   "execution_count": null,
   "id": "b014aa23",
   "metadata": {},
   "outputs": [],
   "source": [
    "repo_list = []\n",
    "\n",
    "for i in range(1,10):\n",
    "    response = get('https://github.com/search?p={}&q=inflation&type=Repositories'.format(i))\n",
    "    soup = BeautifulSoup(response.content, 'html.parser')\n",
    "    \n",
    "    for repo in soup.find_all('a', class_ = 'v-align-middle'):\n",
    "        repo_list.append(repo.text)\n",
    "repo_list"
   ]
  },
  {
   "cell_type": "code",
   "execution_count": null,
   "id": "ec07b0ee",
   "metadata": {},
   "outputs": [],
   "source": [
    "# after 1 minite\n",
    "repo_list1 = []\n",
    "\n",
    "for i in range(10,20):\n",
    "    response = get('https://github.com/search?p={}&q=inflation&type=Repositories'.format(i))\n",
    "    soup = BeautifulSoup(response.content, 'html.parser')\n",
    "    \n",
    "    for repo in soup.find_all('a', class_ = 'v-align-middle'):\n",
    "        repo_list1.append(repo.text)\n",
    "repo_list1"
   ]
  },
  {
   "cell_type": "code",
   "execution_count": null,
   "id": "49a8b716",
   "metadata": {},
   "outputs": [],
   "source": [
    "repo_list2 = []\n",
    "\n",
    "for i in range(20,30):\n",
    "    response = get('https://github.com/search?p={}&q=inflation&type=Repositories'.format(i))\n",
    "    soup = BeautifulSoup(response.content, 'html.parser')\n",
    "    \n",
    "    for repo in soup.find_all('a', class_ = 'v-align-middle'):\n",
    "        repo_list2.append(repo.text)\n",
    "repo_list2"
   ]
  },
  {
   "cell_type": "code",
   "execution_count": null,
   "id": "646f26fd",
   "metadata": {},
   "outputs": [],
   "source": [
    "repo_list3 = []\n",
    "\n",
    "for i in range(30,40):\n",
    "    response = get('https://github.com/search?p={}&q=inflation&type=Repositories'.format(i))\n",
    "    soup = BeautifulSoup(response.content, 'html.parser')\n",
    "    \n",
    "    for repo in soup.find_all('a', class_ = 'v-align-middle'):\n",
    "        repo_list3.append(repo.text)\n",
    "repo_list3"
   ]
  },
  {
   "cell_type": "code",
   "execution_count": null,
   "id": "d5356854",
   "metadata": {},
   "outputs": [],
   "source": [
    "repo_list4 = []\n",
    "\n",
    "for i in range(40,50):\n",
    "    response = get('https://github.com/search?p={}&q=inflation&type=Repositories'.format(i))\n",
    "    soup = BeautifulSoup(response.content, 'html.parser')\n",
    "    \n",
    "    for repo in soup.find_all('a', class_ = 'v-align-middle'):\n",
    "        repo_list4.append(repo.text)\n",
    "repo_list4"
   ]
  },
  {
   "cell_type": "code",
   "execution_count": null,
   "id": "9e3fb479",
   "metadata": {},
   "outputs": [],
   "source": [
    "repo_list5 = []\n",
    "\n",
    "for i in range(50,60):\n",
    "    response = get('https://github.com/search?p={}&q=inflation&type=Repositories'.format(i))\n",
    "    soup = BeautifulSoup(response.content, 'html.parser')\n",
    "    \n",
    "    for repo in soup.find_all('a', class_ = 'v-align-middle'):\n",
    "        repo_list5.append(repo.text)\n",
    "repo_list5"
   ]
  },
  {
   "cell_type": "code",
   "execution_count": null,
   "id": "14b74ae0",
   "metadata": {},
   "outputs": [],
   "source": [
    "repo_list6 = []\n",
    "\n",
    "for i in range(60,70):\n",
    "    response = get('https://github.com/search?p={}&q=inflation&type=Repositories'.format(i))\n",
    "    soup = BeautifulSoup(response.content, 'html.parser')\n",
    "    \n",
    "    for repo in soup.find_all('a', class_ = 'v-align-middle'):\n",
    "        repo_list6.append(repo.text)\n",
    "repo_list6"
   ]
  },
  {
   "cell_type": "code",
   "execution_count": null,
   "id": "5f9dd6e5",
   "metadata": {},
   "outputs": [],
   "source": [
    "repo_list7 = []\n",
    "\n",
    "for i in range(70,80):\n",
    "    response = get('https://github.com/search?p={}&q=inflation&type=Repositories'.format(i))\n",
    "    soup = BeautifulSoup(response.content, 'html.parser')\n",
    "    \n",
    "    for repo in soup.find_all('a', class_ = 'v-align-middle'):\n",
    "        repo_list7.append(repo.text)\n",
    "repo_list7"
   ]
  },
  {
   "cell_type": "code",
   "execution_count": null,
   "id": "fd6315b6",
   "metadata": {},
   "outputs": [],
   "source": [
    "repo_list8 = []\n",
    "\n",
    "for i in range(80,90):\n",
    "    response = get('https://github.com/search?p={}&q=inflation&type=Repositories'.format(i))\n",
    "    soup = BeautifulSoup(response.content, 'html.parser')\n",
    "    \n",
    "    for repo in soup.find_all('a', class_ = 'v-align-middle'):\n",
    "        repo_list8.append(repo.text)\n",
    "repo_list8"
   ]
  },
  {
   "cell_type": "code",
   "execution_count": null,
   "id": "55b361d9",
   "metadata": {},
   "outputs": [],
   "source": [
    "repo_list9 = []\n",
    "\n",
    "for i in range(90,100):\n",
    "    response = get('https://github.com/search?p={}&q=inflation&type=Repositories'.format(i))\n",
    "    soup = BeautifulSoup(response.content, 'html.parser')\n",
    "    \n",
    "    for repo in soup.find_all('a', class_ = 'v-align-middle'):\n",
    "        repo_list9.append(repo.text)\n",
    "repo_list9"
   ]
  },
  {
   "cell_type": "code",
   "execution_count": null,
   "id": "bab5fec3",
   "metadata": {},
   "outputs": [],
   "source": [
    "repo_list10 = []\n",
    "\n",
    "for i in range(100,110):\n",
    "    response = get('https://github.com/search?p={}&q=inflation&type=Repositories'.format(i))\n",
    "    soup = BeautifulSoup(response.content, 'html.parser')\n",
    "    \n",
    "    for repo in soup.find_all('a', class_ = 'v-align-middle'):\n",
    "        repo_list10.append(repo.text)\n",
    "repo_list10"
   ]
  },
  {
   "cell_type": "code",
   "execution_count": null,
   "id": "bc0c56b7",
   "metadata": {},
   "outputs": [],
   "source": [
    "final = repo_list + repo_list1 + repo_list2 + repo_list3 + repo_list4 + repo_list5 + repo_list6 + repo_list7 + repo_list8 + repo_list9 + repo_list10\n",
    "len(final)"
   ]
  },
  {
   "cell_type": "code",
   "execution_count": null,
   "id": "bddc5689",
   "metadata": {},
   "outputs": [],
   "source": [
    "df_final = pd.DataFrame(final)\n",
    "df_final.rename(columns = {0 : 'repo_name'}, inplace = True)\n",
    "df_final.head()"
   ]
  },
  {
   "cell_type": "code",
   "execution_count": null,
   "id": "4099b445",
   "metadata": {},
   "outputs": [],
   "source": [
    "df_final = df_final.drop_duplicates()\n",
    "len(df_final)"
   ]
  },
  {
   "cell_type": "code",
   "execution_count": null,
   "id": "3f356aac",
   "metadata": {},
   "outputs": [],
   "source": [
    "df_final.to_csv('repo_name.csv', index = False)"
   ]
  },
  {
   "cell_type": "markdown",
   "id": "94b0aef3",
   "metadata": {},
   "source": [
    "## get readme content"
   ]
  },
  {
   "cell_type": "code",
   "execution_count": null,
   "id": "519618be",
   "metadata": {},
   "outputs": [],
   "source": [
    "df = pd.read_csv('repo_name.csv')\n",
    "repo_list = df['repo_name'].to_list()"
   ]
  },
  {
   "cell_type": "code",
   "execution_count": 2,
   "id": "aacc9202",
   "metadata": {},
   "outputs": [
    {
     "data": {
      "text/plain": [
       "(848, 1)"
      ]
     },
     "execution_count": 2,
     "metadata": {},
     "output_type": "execute_result"
    }
   ],
   "source": [
    "df.shape"
   ]
  },
  {
   "cell_type": "code",
   "execution_count": 6,
   "id": "21c2aac9",
   "metadata": {},
   "outputs": [],
   "source": [
    "# query = 'inflation&type=Repositories'"
   ]
  },
  {
   "cell_type": "code",
   "execution_count": 13,
   "id": "70150bb1",
   "metadata": {},
   "outputs": [],
   "source": [
    "headers = {\"Authorization\": f\"token {github_token}\", \"User-Agent\": github_username}\n",
    "\n",
    "if headers[\"Authorization\"] == \"token \" or headers[\"User-Agent\"] == \"\":\n",
    "    raise Exception(\n",
    "        \"You need to follow the instructions marked TODO in this script before trying to use it\"\n",
    "    )\n",
    "\n",
    "REPOS = repo_list\n",
    "\n",
    "def github_api_request(url: str) -> Union[List, Dict]:\n",
    "    time.sleep(0.25)\n",
    "    print(url)\n",
    "    response = requests.get(url, headers=headers, timeout=60)\n",
    "    response_data = response.json()\n",
    "    if int(response.headers['X-RateLimit-Remaining']) < 10:\n",
    "        print('Rate-limit exceeded. Slowing down.')\n",
    "        time.sleep(60)\n",
    "    if response.status_code != 200:\n",
    "        raise Exception(\n",
    "            f\"Error response from github api! status code: {response.status_code}, \"\n",
    "            f\"response: {json.dumps(response_data)}\"\n",
    "        )\n",
    "    return response_data\n",
    "\n",
    "def get_repo_language(repo: str) -> str:\n",
    "    url = f\"https://api.github.com/repos/{repo}\"\n",
    "    repo_info = github_api_request(url)\n",
    "    if type(repo_info) is dict:\n",
    "        repo_info = cast(Dict, repo_info)\n",
    "        return repo_info.get(\"language\", None)\n",
    "    raise Exception(\n",
    "        f\"Expecting a dictionary response from {url}, instead got {json.dumps(repo_info)}\"\n",
    "    )\n",
    "    \n",
    "def get_repo_contents(repo: str) -> List[Dict[str, str]]:\n",
    "    url = f\"https://api.github.com/repos/{repo}/contents/\"\n",
    "    contents = github_api_request(url)\n",
    "    if type(contents) is list:\n",
    "        contents = cast(List, contents)\n",
    "        return contents\n",
    "    raise Exception(\n",
    "        f\"Expecting a list response from {url}, instead got {json.dumps(contents)}\"\n",
    "    )\n",
    "    \n",
    "def get_readme_download_url(files: List[Dict[str, str]]) -> str:\n",
    "    \"\"\"\n",
    "    Takes in a response from the github api that lists the files in a repo and\n",
    "    returns the url that can be used to download the repo's README file.\n",
    "    \"\"\"\n",
    "    for file in files:\n",
    "        if file[\"name\"].lower().startswith(\"readme\"):\n",
    "            return file[\"download_url\"]\n",
    "    return \"\"\n",
    "\n",
    "def process_repo(repo: str) -> Dict[str, str]:\n",
    "    \"\"\"\n",
    "    Takes a repo name like \"gocodeup/codeup-setup-script\" and returns a\n",
    "    dictionary with the language of the repo and the readme contents.\n",
    "    \"\"\"\n",
    "    contents = get_repo_contents(repo)\n",
    "    try:\n",
    "        readme_contents = requests.get(get_readme_download_url(contents)).text\n",
    "    except:\n",
    "        readme_contents = ''\n",
    "    return {\n",
    "        \"repo\": repo,\n",
    "        \"language\": get_repo_language(repo),\n",
    "        \"readme_contents\": readme_contents,\n",
    "    }\n",
    "\n",
    "def scrape_github_data() -> List[Dict[str, str]]:\n",
    "    \"\"\"\n",
    "    Loop through all of the repos and process them. Returns the processed data.\n",
    "    \"\"\"\n",
    "    f = IntProgress(min=0, max=len(REPOS), description='Downloading Data')\n",
    "    display(f)\n",
    "    output = []\n",
    "    for i, repo in enumerate(REPOS):\n",
    "        f.value = i\n",
    "        output.append(process_repo(repo))\n",
    "    return output\n",
    "\n",
    "def get_data(refresh=False):\n",
    "    filename = './data.csv'\n",
    "    if refresh or not os.path.isfile(filename):\n",
    "        data = scrape_github_data()\n",
    "        df = pd.DataFrame(data)\n",
    "        df.to_csv(filename, index=False)\n",
    "    else:\n",
    "        df = pd.read_csv(filename)\n",
    "    return df\n",
    "\n",
    "def wrangle_data():\n",
    "    df = get_data()\n",
    "\n",
    "    return df"
   ]
  },
  {
   "cell_type": "code",
   "execution_count": null,
   "id": "c82bbd9b",
   "metadata": {},
   "outputs": [],
   "source": [
    "# if the repo been deleted after we get the repo name, wrangle_data code will stuck"
   ]
  },
  {
   "cell_type": "code",
   "execution_count": 17,
   "id": "6442f346",
   "metadata": {},
   "outputs": [
    {
     "data": {
      "text/html": [
       "<div>\n",
       "<style scoped>\n",
       "    .dataframe tbody tr th:only-of-type {\n",
       "        vertical-align: middle;\n",
       "    }\n",
       "\n",
       "    .dataframe tbody tr th {\n",
       "        vertical-align: top;\n",
       "    }\n",
       "\n",
       "    .dataframe thead th {\n",
       "        text-align: right;\n",
       "    }\n",
       "</style>\n",
       "<table border=\"1\" class=\"dataframe\">\n",
       "  <thead>\n",
       "    <tr style=\"text-align: right;\">\n",
       "      <th></th>\n",
       "      <th>repo</th>\n",
       "      <th>language</th>\n",
       "      <th>readme_contents</th>\n",
       "    </tr>\n",
       "  </thead>\n",
       "  <tbody>\n",
       "    <tr>\n",
       "      <th>0</th>\n",
       "      <td>cashapp/InflationInject</td>\n",
       "      <td>Kotlin</td>\n",
       "      <td># Inflation Injection\\n\\nConstructor-inject vi...</td>\n",
       "    </tr>\n",
       "    <tr>\n",
       "      <th>1</th>\n",
       "      <td>InflationX/ViewPump</td>\n",
       "      <td>Kotlin</td>\n",
       "      <td>ViewPump\\n========\\n\\nView inflation you can i...</td>\n",
       "    </tr>\n",
       "    <tr>\n",
       "      <th>2</th>\n",
       "      <td>rdeits/iris-distro</td>\n",
       "      <td>Matlab</td>\n",
       "      <td>Introduction\\n============\\n\\nThis package con...</td>\n",
       "    </tr>\n",
       "    <tr>\n",
       "      <th>3</th>\n",
       "      <td>uhussain/WebCrawlerForOnlineInflation</td>\n",
       "      <td>Python</td>\n",
       "      <td># Table of Contents \\n1. [Introduction](README...</td>\n",
       "    </tr>\n",
       "    <tr>\n",
       "      <th>4</th>\n",
       "      <td>sandes/zipfly</td>\n",
       "      <td>Python</td>\n",
       "      <td>[![Build Status](https://img.shields.io/circle...</td>\n",
       "    </tr>\n",
       "    <tr>\n",
       "      <th>...</th>\n",
       "      <td>...</td>\n",
       "      <td>...</td>\n",
       "      <td>...</td>\n",
       "    </tr>\n",
       "    <tr>\n",
       "      <th>843</th>\n",
       "      <td>millerngit/RateOfInflation</td>\n",
       "      <td>C++</td>\n",
       "      <td>NaN</td>\n",
       "    </tr>\n",
       "    <tr>\n",
       "      <th>844</th>\n",
       "      <td>iamdingkai/what-s-driving-inflation</td>\n",
       "      <td>Jupyter Notebook</td>\n",
       "      <td>NaN</td>\n",
       "    </tr>\n",
       "    <tr>\n",
       "      <th>845</th>\n",
       "      <td>jrbsn/Inflation-Deep-Learning</td>\n",
       "      <td>NaN</td>\n",
       "      <td># Inflation-Deep-Learning\\nPredicts opening fo...</td>\n",
       "    </tr>\n",
       "    <tr>\n",
       "      <th>846</th>\n",
       "      <td>fscheler/Inflation_Tracker_World</td>\n",
       "      <td>HTML</td>\n",
       "      <td>NaN</td>\n",
       "    </tr>\n",
       "    <tr>\n",
       "      <th>847</th>\n",
       "      <td>jacobrosen1997/ECON323-Inflation</td>\n",
       "      <td>Jupyter Notebook</td>\n",
       "      <td>NaN</td>\n",
       "    </tr>\n",
       "  </tbody>\n",
       "</table>\n",
       "<p>848 rows × 3 columns</p>\n",
       "</div>"
      ],
      "text/plain": [
       "                                      repo          language  \\\n",
       "0                  cashapp/InflationInject            Kotlin   \n",
       "1                      InflationX/ViewPump            Kotlin   \n",
       "2                       rdeits/iris-distro            Matlab   \n",
       "3    uhussain/WebCrawlerForOnlineInflation            Python   \n",
       "4                            sandes/zipfly            Python   \n",
       "..                                     ...               ...   \n",
       "843             millerngit/RateOfInflation               C++   \n",
       "844    iamdingkai/what-s-driving-inflation  Jupyter Notebook   \n",
       "845          jrbsn/Inflation-Deep-Learning               NaN   \n",
       "846       fscheler/Inflation_Tracker_World              HTML   \n",
       "847       jacobrosen1997/ECON323-Inflation  Jupyter Notebook   \n",
       "\n",
       "                                       readme_contents  \n",
       "0    # Inflation Injection\\n\\nConstructor-inject vi...  \n",
       "1    ViewPump\\n========\\n\\nView inflation you can i...  \n",
       "2    Introduction\\n============\\n\\nThis package con...  \n",
       "3    # Table of Contents \\n1. [Introduction](README...  \n",
       "4    [![Build Status](https://img.shields.io/circle...  \n",
       "..                                                 ...  \n",
       "843                                                NaN  \n",
       "844                                                NaN  \n",
       "845  # Inflation-Deep-Learning\\nPredicts opening fo...  \n",
       "846                                                NaN  \n",
       "847                                                NaN  \n",
       "\n",
       "[848 rows x 3 columns]"
      ]
     },
     "execution_count": 17,
     "metadata": {},
     "output_type": "execute_result"
    }
   ],
   "source": [
    "df = wrangle_data()\n",
    "df"
   ]
  },
  {
   "cell_type": "code",
   "execution_count": 18,
   "id": "73ab868f",
   "metadata": {},
   "outputs": [
    {
     "data": {
      "text/plain": [
       "(848, 3)"
      ]
     },
     "execution_count": 18,
     "metadata": {},
     "output_type": "execute_result"
    }
   ],
   "source": [
    "df.shape"
   ]
  },
  {
   "cell_type": "code",
   "execution_count": 19,
   "id": "4c3bea8f",
   "metadata": {},
   "outputs": [
    {
     "data": {
      "text/html": [
       "<div>\n",
       "<style scoped>\n",
       "    .dataframe tbody tr th:only-of-type {\n",
       "        vertical-align: middle;\n",
       "    }\n",
       "\n",
       "    .dataframe tbody tr th {\n",
       "        vertical-align: top;\n",
       "    }\n",
       "\n",
       "    .dataframe thead th {\n",
       "        text-align: right;\n",
       "    }\n",
       "</style>\n",
       "<table border=\"1\" class=\"dataframe\">\n",
       "  <thead>\n",
       "    <tr style=\"text-align: right;\">\n",
       "      <th></th>\n",
       "      <th>repo</th>\n",
       "      <th>language</th>\n",
       "      <th>readme_contents</th>\n",
       "    </tr>\n",
       "  </thead>\n",
       "  <tbody>\n",
       "    <tr>\n",
       "      <th>0</th>\n",
       "      <td>cashapp/InflationInject</td>\n",
       "      <td>Kotlin</td>\n",
       "      <td># Inflation Injection\\n\\nConstructor-inject vi...</td>\n",
       "    </tr>\n",
       "    <tr>\n",
       "      <th>1</th>\n",
       "      <td>InflationX/ViewPump</td>\n",
       "      <td>Kotlin</td>\n",
       "      <td>ViewPump\\n========\\n\\nView inflation you can i...</td>\n",
       "    </tr>\n",
       "    <tr>\n",
       "      <th>2</th>\n",
       "      <td>rdeits/iris-distro</td>\n",
       "      <td>Matlab</td>\n",
       "      <td>Introduction\\n============\\n\\nThis package con...</td>\n",
       "    </tr>\n",
       "    <tr>\n",
       "      <th>3</th>\n",
       "      <td>uhussain/WebCrawlerForOnlineInflation</td>\n",
       "      <td>Python</td>\n",
       "      <td># Table of Contents \\n1. [Introduction](README...</td>\n",
       "    </tr>\n",
       "    <tr>\n",
       "      <th>4</th>\n",
       "      <td>sandes/zipfly</td>\n",
       "      <td>Python</td>\n",
       "      <td>[![Build Status](https://img.shields.io/circle...</td>\n",
       "    </tr>\n",
       "  </tbody>\n",
       "</table>\n",
       "</div>"
      ],
      "text/plain": [
       "                                    repo language  \\\n",
       "0                cashapp/InflationInject   Kotlin   \n",
       "1                    InflationX/ViewPump   Kotlin   \n",
       "2                     rdeits/iris-distro   Matlab   \n",
       "3  uhussain/WebCrawlerForOnlineInflation   Python   \n",
       "4                          sandes/zipfly   Python   \n",
       "\n",
       "                                     readme_contents  \n",
       "0  # Inflation Injection\\n\\nConstructor-inject vi...  \n",
       "1  ViewPump\\n========\\n\\nView inflation you can i...  \n",
       "2  Introduction\\n============\\n\\nThis package con...  \n",
       "3  # Table of Contents \\n1. [Introduction](README...  \n",
       "4  [![Build Status](https://img.shields.io/circle...  "
      ]
     },
     "execution_count": 19,
     "metadata": {},
     "output_type": "execute_result"
    }
   ],
   "source": [
    "df.head()"
   ]
  },
  {
   "cell_type": "code",
   "execution_count": 22,
   "id": "b163fd92",
   "metadata": {},
   "outputs": [],
   "source": [
    "df.to_csv(\"inflation_readme.csv\")"
   ]
  }
 ],
 "metadata": {
  "kernelspec": {
   "display_name": "Python 3 (ipykernel)",
   "language": "python",
   "name": "python3"
  },
  "language_info": {
   "codemirror_mode": {
    "name": "ipython",
    "version": 3
   },
   "file_extension": ".py",
   "mimetype": "text/x-python",
   "name": "python",
   "nbconvert_exporter": "python",
   "pygments_lexer": "ipython3",
   "version": "3.9.12"
  }
 },
 "nbformat": 4,
 "nbformat_minor": 5
}
