{
 "cells": [
  {
   "cell_type": "code",
   "execution_count": 1,
   "id": "f6c9a3cc",
   "metadata": {},
   "outputs": [],
   "source": [
    "#Import dependencies\n",
    "from requests import get\n",
    "from bs4 import BeautifulSoup\n",
    "import pandas as pd\n",
    "import re"
   ]
  },
  {
   "cell_type": "code",
   "execution_count": 2,
   "id": "a2864d0c",
   "metadata": {},
   "outputs": [],
   "source": [
    "\"\"\"\n",
    "A module for obtaining repo readme and language data from the github API.\n",
    "Before using this module, read through it, and follow the instructions marked\n",
    "TODO.\n",
    "After doing so, run it like this:\n",
    "    python acquire.py\n",
    "To create the `data.json` file that contains the data.\n",
    "\"\"\"\n",
    "import os\n",
    "import json\n",
    "from typing import Dict, List, Optional, Union, cast\n",
    "import requests\n",
    "\n",
    "from env import github_token, github_username\n",
    "\n",
    "# TODO: Make a github personal access token.\n",
    "#     1. Go here and generate a personal access token https://github.com/settings/tokens\n",
    "#        You do _not_ need select any scopes, i.e. leave all the checkboxes unchecked\n",
    "#     2. Save it in your env.py file under the variable `github_token`\n",
    "# TODO: Add your github username to your env.py file under the variable `github_username`\n",
    "# TODO: Add more repositories to the `REPOS` list below.\n",
    "\n",
    "REPOS = []\n",
    "\n",
    "# REPOS = [\n",
    "#     \"gocodeup/codeup-setup-script\",\n",
    "#     \"gocodeup/movies-application\",\n",
    "#     \"torvalds/linux\",\n",
    "#     ....\n",
    "# ]\n",
    "\n",
    "\n",
    "\n",
    "headers = {\"Authorization\": f\"token {github_token}\", \"User-Agent\": github_username}\n",
    "\n",
    "if headers[\"Authorization\"] == \"token \" or headers[\"User-Agent\"] == \"\":\n",
    "    raise Exception(\n",
    "        \"You need to follow the instructions marked TODO in this script before trying to use it\"\n",
    "    )\n",
    "\n",
    "\n",
    "def github_api_request(url: str) -> Union[List, Dict]:\n",
    "    response = requests.get(url, headers=headers)\n",
    "    response_data = response.json()\n",
    "    if response.status_code != 200:\n",
    "        raise Exception(\n",
    "            f\"Error response from github api! status code: {response.status_code}, \"\n",
    "            f\"response: {json.dumps(response_data)}\"\n",
    "        )\n",
    "    return response_data"
   ]
  },
  {
   "cell_type": "code",
   "execution_count": 3,
   "id": "9eaec3a4",
   "metadata": {},
   "outputs": [],
   "source": [
    "#partial\n",
    "def get_repo_language(repo: str) -> str:\n",
    "    url = f\"https://api.github.com/repos/{repo}\"\n",
    "    repo_info = github_api_request(url)\n",
    "    if type(repo_info) is dict:\n",
    "        repo_info = cast(Dict, repo_info)\n",
    "        return repo_info.get(\"language\", None)\n",
    "    raise Exception(\n",
    "        f\"Expecting a dictionary response from {url}, instead got {json.dumps(repo_info)}\"\n",
    "    )\n",
    "\n",
    "#Partial\n",
    "def get_repo_contents(repo: str) -> List[Dict[str, str]]:\n",
    "    url = f\"https://api.github.com/repos/{repo}/contents/\"\n",
    "    contents = github_api_request(url)\n",
    "    if type(contents) is list:\n",
    "        contents = cast(List, contents)\n",
    "        return contents\n",
    "    raise Exception(\n",
    "        f\"Expecting a list response from {url}, instead got {json.dumps(contents)}\"\n",
    "    )\n",
    "\n",
    "# Partial\n",
    "def get_readme_download_url(files: List[Dict[str, str]]) -> str:\n",
    "    \"\"\"\n",
    "    Takes in a response from the github api that lists the files in a repo and\n",
    "    returns the url that can be used to download the repo's README file.\n",
    "    \"\"\"\n",
    "    for file in files:\n",
    "        if file[\"name\"].lower().startswith(\"readme\"):\n",
    "            return file[\"download_url\"]\n",
    "    return \"\"\n",
    "\n",
    "\n",
    "def process_repo(repo: str) -> Dict[str, str]:\n",
    "    \"\"\"\n",
    "    Takes a repo name like \"gocodeup/codeup-setup-script\" and returns a\n",
    "    dictionary with the language of the repo and the readme contents.\n",
    "    \"\"\"\n",
    "    contents = get_repo_contents(repo)\n",
    "    readme_contents = requests.get(get_readme_download_url(contents)).text\n",
    "    return {\n",
    "        \"repo\": repo,\n",
    "        \"language\": get_repo_language(repo),\n",
    "        \"readme_contents\": readme_contents,\n",
    "    }\n",
    "\n",
    "\n",
    "def scrape_github_data() -> List[Dict[str, str]]:\n",
    "    \"\"\"\n",
    "    Loop through all of the repos and process them. Returns the processed data.\n",
    "    \"\"\"\n",
    "    return [process_repo(repo) for repo in REPOS]\n",
    "\n",
    "\n",
    "if __name__ == \"__main__\":\n",
    "    data = scrape_github_data()\n",
    "    json.dump(data, open(\"data2.json\", \"w\"), indent=1)"
   ]
  },
  {
   "cell_type": "code",
   "execution_count": 4,
   "id": "57f98705",
   "metadata": {},
   "outputs": [],
   "source": [
    "repo = 'inflationcoin/inflationcoin'"
   ]
  },
  {
   "cell_type": "code",
   "execution_count": 5,
   "id": "bac24f33",
   "metadata": {
    "scrolled": false
   },
   "outputs": [
    {
     "data": {
      "text/plain": [
       "{'repo': 'inflationcoin/inflationcoin',\n",
       " 'language': 'C++',\n",
       " 'readme_contents': \"InflationCoin - IFLT\\r\\n\\r\\nInflationCoin is an X11 PoW/PoS coin. It is a coin that integrated with true random super bonus block features. It uses high PoS as a way of distributing fairly the coins to community.\\r\\n\\r\\n- X11 hash algorithm, PoW/PoS mixed\\r\\n- 5 transaction confirmations\\r\\n- 70 minted block confirmations\\r\\n- Total coins will be 10 billions\\r\\n- The coin will be a pure PoS coin after 3 months of PoW mining.\\r\\n- A 2.5% premine for bounties and to fund servers and dev expenses\\r\\n\\r\\nPoW details:\\r\\n- 60 sec PoW block target time\\r\\n- difficulty retarget each block for PoW\\r\\n- Payout will be 1,000 coins per block\\r\\n- Every day there will be a random super block with 1000X normal payment (1,000,000 coins), it is true randomness and can't be taken advantage by big hashpowers\\r\\n- PoW will be terminated after 90 days.\\r\\n\\r\\nPoS details:\\r\\n- 60 sec PoS block time\\r\\n- diff retarget each block for PoS\\r\\n- minimum hold for PoS: 24 hours\\r\\n- maximum hold for PoS: 60 days\\r\\n- Variable PoS annual payout rate:\\r\\n\\t- 1st year: 800%\\r\\n\\t- 2nd year: 80%\\r\\n\\t- 3rd year: 8%\\r\\n\\t- subsequent years: 4%\\r\\n\\r\\nPorts:\\r\\nconnection:\\t11370\\r\\nRPC:\\t\\t\\t11371\\r\\n\"}"
      ]
     },
     "execution_count": 5,
     "metadata": {},
     "output_type": "execute_result"
    }
   ],
   "source": [
    "process_repo('inflationcoin/inflationcoin')"
   ]
  },
  {
   "cell_type": "code",
   "execution_count": 6,
   "id": "6aee2ddd",
   "metadata": {},
   "outputs": [],
   "source": [
    "response = get('https://github.com/search?o=desc&p=2&q=inflation&s=forks&type=Repositories', headers=headers)"
   ]
  },
  {
   "cell_type": "code",
   "execution_count": 7,
   "id": "a37b5ca8",
   "metadata": {},
   "outputs": [],
   "source": [
    "soup = BeautifulSoup(response.content, 'html.parser')"
   ]
  },
  {
   "cell_type": "code",
   "execution_count": 8,
   "id": "48f566a9",
   "metadata": {},
   "outputs": [],
   "source": [
    "# <a class=\"v-align-middle\" data-hydro-click=\"{&quot;event_type&quot;:&quot;search_result.click&quot;,&quot;payload&quot;:{&quot;page_number&quot;:2,&quot;per_page&quot;:10,&quot;query&quot;:&quot;inflation&quot;,&quot;result_position&quot;:3,&quot;click_id&quot;:72912101,&quot;result&quot;:{&quot;id&quot;:72912101,&quot;global_relay_id&quot;:&quot;MDEwOlJlcG9zaXRvcnk3MjkxMjEwMQ==&quot;,&quot;model_name&quot;:&quot;Repository&quot;,&quot;url&quot;:&quot;https://github.com/inflationcoin/inflationcoin&quot;},&quot;originating_url&quot;:&quot;https://github.com/search?o=desc&amp;p=2&amp;q=inflation&amp;s=forks&amp;type=Repositories&quot;,&quot;user_id&quot;:105242919}}\" data-hydro-click-hmac=\"2f1f5bb56b209ce58e0f2aaf43b515e80a28028abd3302a8015c69aadbbabf16\" href=\"/inflationcoin/inflationcoin\">inflationcoin/<em>inflationcoin</em></a>\n"
   ]
  },
  {
   "cell_type": "code",
   "execution_count": 9,
   "id": "3fe9b165",
   "metadata": {},
   "outputs": [
    {
     "data": {
      "text/plain": [
       "'gwern/gwern.net'"
      ]
     },
     "execution_count": 9,
     "metadata": {},
     "output_type": "execute_result"
    }
   ],
   "source": [
    "repo = soup.find('a', class_ = 'v-align-middle')\n",
    "repo.text"
   ]
  },
  {
   "cell_type": "code",
   "execution_count": 10,
   "id": "a013d86f",
   "metadata": {
    "scrolled": true
   },
   "outputs": [
    {
     "data": {
      "text/plain": [
       "'gwern/gwern.net'"
      ]
     },
     "execution_count": 10,
     "metadata": {},
     "output_type": "execute_result"
    }
   ],
   "source": [
    "repos = soup.find_all('a', class_ = 'v-align-middle')\n",
    "repos[0].text"
   ]
  },
  {
   "cell_type": "code",
   "execution_count": 11,
   "id": "679bc46f",
   "metadata": {},
   "outputs": [],
   "source": [
    "repo_list = []\n",
    "for i in range(1,10):\n",
    "    response = get('https://github.com/search?p={}&q=inflation&type=Repositories'.format(i))\n",
    "    soup = BeautifulSoup(response.content, 'html.parser')\n",
    "    for repo in soup.find_all('a', class_ = 'v-align-middle'):\n",
    "        repo_list.append(repo.text)"
   ]
  },
  {
   "cell_type": "code",
   "execution_count": 12,
   "id": "5c368bc7",
   "metadata": {},
   "outputs": [
    {
     "data": {
      "text/plain": [
       "80"
      ]
     },
     "execution_count": 12,
     "metadata": {},
     "output_type": "execute_result"
    }
   ],
   "source": [
    "len(repo_list) #should be 90, changes all the time"
   ]
  },
  {
   "cell_type": "code",
   "execution_count": 13,
   "id": "0268cb9c",
   "metadata": {},
   "outputs": [],
   "source": [
    "# repo_list_teen = []\n",
    "# for i in range(10, 20):\n",
    "#     response = get('https://github.com/search?p={}&q=inflation&type=Repositories'.format(i))\n",
    "#     soup = BeautifulSoup(response.content, 'html.parser')\n",
    "#     for repo in soup.find_all('a', class_ = 'v-align-middle'):\n",
    "#         repo_list_teen.append(repo.text)"
   ]
  },
  {
   "cell_type": "code",
   "execution_count": 14,
   "id": "31b2cc0d",
   "metadata": {
    "scrolled": true
   },
   "outputs": [],
   "source": [
    "#len(repo_list_teen)"
   ]
  },
  {
   "cell_type": "code",
   "execution_count": 15,
   "id": "d80086c0",
   "metadata": {},
   "outputs": [],
   "source": [
    "# repo_list_two = []\n",
    "# for i in range(20, 30):\n",
    "#     response = get('https://github.com/search?p={}&q=inflation&type=Repositories'.format(i))\n",
    "#     soup = BeautifulSoup(response.content, 'html.parser')\n",
    "#     for repo in soup.find_all('a', class_ = 'v-align-middle'):\n",
    "#         repo_list_two.append(repo.text)"
   ]
  },
  {
   "cell_type": "code",
   "execution_count": 16,
   "id": "2ea10f26",
   "metadata": {
    "scrolled": true
   },
   "outputs": [],
   "source": [
    "#len(repo_list_two)"
   ]
  },
  {
   "cell_type": "code",
   "execution_count": 17,
   "id": "806a1d4d",
   "metadata": {},
   "outputs": [],
   "source": [
    "# repo_list_three = []\n",
    "# for i in range(30, 40):\n",
    "#     response = get('https://github.com/search?p={}&q=inflation&type=Repositories'.format(i))\n",
    "#     soup = BeautifulSoup(response.content, 'html.parser')\n",
    "#     for repo in soup.find_all('a', class_ = 'v-align-middle'):\n",
    "#         repo_list_three.append(repo.text)"
   ]
  },
  {
   "cell_type": "code",
   "execution_count": 18,
   "id": "beee8067",
   "metadata": {},
   "outputs": [],
   "source": [
    "# repo_list4 = []\n",
    "# for i in range(40, 50):\n",
    "#     response = get('https://github.com/search?p={}&q=inflation&type=Repositories'.format(i))\n",
    "#     soup = BeautifulSoup(response.content, 'html.parser')\n",
    "#     for repo in soup.find_all('a', class_ = 'v-align-middle'):\n",
    "#         repo_list4.append(repo.text)"
   ]
  },
  {
   "cell_type": "code",
   "execution_count": 19,
   "id": "80f71432",
   "metadata": {},
   "outputs": [],
   "source": [
    "# repo_list5 = []\n",
    "# for i in range(50, 60):\n",
    "#     response = get('https://github.com/search?p={}&q=inflation&type=Repositories'.format(i))\n",
    "#     soup = BeautifulSoup(response.content, 'html.parser')\n",
    "#     for repo in soup.find_all('a', class_ = 'v-align-middle'):\n",
    "#         repo_list5.append(repo.text)"
   ]
  },
  {
   "cell_type": "code",
   "execution_count": 20,
   "id": "41aeaaac",
   "metadata": {},
   "outputs": [],
   "source": [
    "# repo_list6 = []\n",
    "# for i in range(60, 70):\n",
    "#     response = get('https://github.com/search?p={}&q=inflation&type=Repositories'.format(i))\n",
    "#     soup = BeautifulSoup(response.content, 'html.parser')\n",
    "#     for repo in soup.find_all('a', class_ = 'v-align-middle'):\n",
    "#         repo_list6.append(repo.text)"
   ]
  },
  {
   "cell_type": "code",
   "execution_count": 21,
   "id": "4f1554b3",
   "metadata": {},
   "outputs": [],
   "source": [
    "# repo_list7 = []\n",
    "# for i in range(70, 80):\n",
    "#     response = get('https://github.com/search?p={}&q=inflation&type=Repositories'.format(i))\n",
    "#     soup = BeautifulSoup(response.content, 'html.parser')\n",
    "#     for repo in soup.find_all('a', class_ = 'v-align-middle'):\n",
    "#         repo_list7.append(repo.text)"
   ]
  },
  {
   "cell_type": "code",
   "execution_count": 22,
   "id": "4826c82b",
   "metadata": {},
   "outputs": [],
   "source": [
    "# repo_list8 = []\n",
    "# for i in range(80, 90):\n",
    "#     response = get('https://github.com/search?p={}&q=inflation&type=Repositories'.format(i))\n",
    "#     soup = BeautifulSoup(response.content, 'html.parser')\n",
    "#     for repo in soup.find_all('a', class_ = 'v-align-middle'):\n",
    "#         repo_list8.append(repo.text)"
   ]
  },
  {
   "cell_type": "code",
   "execution_count": 23,
   "id": "2c8297e7",
   "metadata": {},
   "outputs": [],
   "source": [
    "# repo_list9 = []\n",
    "# for i in range(90, 100):\n",
    "#     response = get('https://github.com/search?p={}&q=inflation&type=Repositories'.format(i))\n",
    "#     soup = BeautifulSoup(response.content, 'html.parser')\n",
    "#     for repo in soup.find_all('a', class_ = 'v-align-middle'):\n",
    "#         repo_list9.append(repo.text)"
   ]
  },
  {
   "cell_type": "code",
   "execution_count": 24,
   "id": "6d4e650a",
   "metadata": {},
   "outputs": [],
   "source": [
    "# repo_list10 = []\n",
    "# for i in range(100,101):\n",
    "#     response = get('https://github.com/search?p={}&q=inflation&type=Repositories'.format(i))\n",
    "#     soup = BeautifulSoup(response.content, 'html.parser')\n",
    "#     for repo in soup.find_all('a', class_ = 'v-align-middle'):\n",
    "#         repo_list10.append(repo.text)"
   ]
  },
  {
   "cell_type": "code",
   "execution_count": 25,
   "id": "27b4beab",
   "metadata": {},
   "outputs": [],
   "source": [
    "#len(final)"
   ]
  },
  {
   "cell_type": "code",
   "execution_count": 26,
   "id": "b564a5dc",
   "metadata": {},
   "outputs": [],
   "source": [
    "repo_name = pd.read_csv('repo_name.csv')"
   ]
  },
  {
   "cell_type": "code",
   "execution_count": 27,
   "id": "76473565",
   "metadata": {
    "scrolled": true
   },
   "outputs": [
    {
     "data": {
      "text/html": [
       "<div>\n",
       "<style scoped>\n",
       "    .dataframe tbody tr th:only-of-type {\n",
       "        vertical-align: middle;\n",
       "    }\n",
       "\n",
       "    .dataframe tbody tr th {\n",
       "        vertical-align: top;\n",
       "    }\n",
       "\n",
       "    .dataframe thead th {\n",
       "        text-align: right;\n",
       "    }\n",
       "</style>\n",
       "<table border=\"1\" class=\"dataframe\">\n",
       "  <thead>\n",
       "    <tr style=\"text-align: right;\">\n",
       "      <th></th>\n",
       "      <th>repo_name</th>\n",
       "    </tr>\n",
       "  </thead>\n",
       "  <tbody>\n",
       "    <tr>\n",
       "      <th>0</th>\n",
       "      <td>cashapp/InflationInject</td>\n",
       "    </tr>\n",
       "    <tr>\n",
       "      <th>1</th>\n",
       "      <td>InflationX/ViewPump</td>\n",
       "    </tr>\n",
       "    <tr>\n",
       "      <th>2</th>\n",
       "      <td>rdeits/iris-distro</td>\n",
       "    </tr>\n",
       "    <tr>\n",
       "      <th>3</th>\n",
       "      <td>uhussain/WebCrawlerForOnlineInflation</td>\n",
       "    </tr>\n",
       "    <tr>\n",
       "      <th>4</th>\n",
       "      <td>sandes/zipfly</td>\n",
       "    </tr>\n",
       "    <tr>\n",
       "      <th>...</th>\n",
       "      <td>...</td>\n",
       "    </tr>\n",
       "    <tr>\n",
       "      <th>879</th>\n",
       "      <td>millerngit/RateOfInflation</td>\n",
       "    </tr>\n",
       "    <tr>\n",
       "      <th>880</th>\n",
       "      <td>iamdingkai/what-s-driving-inflation</td>\n",
       "    </tr>\n",
       "    <tr>\n",
       "      <th>881</th>\n",
       "      <td>jrbsn/Inflation-Deep-Learning</td>\n",
       "    </tr>\n",
       "    <tr>\n",
       "      <th>882</th>\n",
       "      <td>fscheler/Inflation_Tracker_World</td>\n",
       "    </tr>\n",
       "    <tr>\n",
       "      <th>883</th>\n",
       "      <td>jacobrosen1997/ECON323-Inflation</td>\n",
       "    </tr>\n",
       "  </tbody>\n",
       "</table>\n",
       "<p>884 rows × 1 columns</p>\n",
       "</div>"
      ],
      "text/plain": [
       "                                 repo_name\n",
       "0                  cashapp/InflationInject\n",
       "1                      InflationX/ViewPump\n",
       "2                       rdeits/iris-distro\n",
       "3    uhussain/WebCrawlerForOnlineInflation\n",
       "4                            sandes/zipfly\n",
       "..                                     ...\n",
       "879             millerngit/RateOfInflation\n",
       "880    iamdingkai/what-s-driving-inflation\n",
       "881          jrbsn/Inflation-Deep-Learning\n",
       "882       fscheler/Inflation_Tracker_World\n",
       "883       jacobrosen1997/ECON323-Inflation\n",
       "\n",
       "[884 rows x 1 columns]"
      ]
     },
     "execution_count": 27,
     "metadata": {},
     "output_type": "execute_result"
    }
   ],
   "source": [
    "repo_name"
   ]
  },
  {
   "cell_type": "code",
   "execution_count": 49,
   "id": "deb1acc0",
   "metadata": {},
   "outputs": [
    {
     "data": {
      "text/html": [
       "<div>\n",
       "<style scoped>\n",
       "    .dataframe tbody tr th:only-of-type {\n",
       "        vertical-align: middle;\n",
       "    }\n",
       "\n",
       "    .dataframe tbody tr th {\n",
       "        vertical-align: top;\n",
       "    }\n",
       "\n",
       "    .dataframe thead th {\n",
       "        text-align: right;\n",
       "    }\n",
       "</style>\n",
       "<table border=\"1\" class=\"dataframe\">\n",
       "  <thead>\n",
       "    <tr style=\"text-align: right;\">\n",
       "      <th></th>\n",
       "      <th>repo_name</th>\n",
       "    </tr>\n",
       "  </thead>\n",
       "  <tbody>\n",
       "  </tbody>\n",
       "</table>\n",
       "</div>"
      ],
      "text/plain": [
       "Empty DataFrame\n",
       "Columns: [repo_name]\n",
       "Index: []"
      ]
     },
     "execution_count": 49,
     "metadata": {},
     "output_type": "execute_result"
    }
   ],
   "source": [
    "repo_name[repo_name.repo_name == ' ']"
   ]
  },
  {
   "cell_type": "code",
   "execution_count": 28,
   "id": "20c1b178",
   "metadata": {},
   "outputs": [],
   "source": [
    "rep_nam_list = repo_name.repo_name.to_list()"
   ]
  },
  {
   "cell_type": "code",
   "execution_count": 40,
   "id": "46e21e39",
   "metadata": {},
   "outputs": [],
   "source": [
    "short_list = rep_nam_list[:10]"
   ]
  },
  {
   "cell_type": "code",
   "execution_count": 41,
   "id": "08fbb059",
   "metadata": {
    "scrolled": true
   },
   "outputs": [
    {
     "data": {
      "text/plain": [
       "['cashapp/InflationInject',\n",
       " 'InflationX/ViewPump',\n",
       " 'rdeits/iris-distro',\n",
       " 'uhussain/WebCrawlerForOnlineInflation',\n",
       " 'sandes/zipfly',\n",
       " 'B3nedikt/ViewPump',\n",
       " 'inflationcoin/inflationcoin',\n",
       " 'anishsingh20/Time-series-analysis-of-Inflation-rates-using-ShinyDashboard',\n",
       " 'stream-utils/inflation',\n",
       " 'palewire/cpi']"
      ]
     },
     "execution_count": 41,
     "metadata": {},
     "output_type": "execute_result"
    }
   ],
   "source": [
    "short_list"
   ]
  },
  {
   "cell_type": "code",
   "execution_count": 42,
   "id": "794e268f",
   "metadata": {},
   "outputs": [],
   "source": [
    "info = []\n",
    "for n in short_list:\n",
    "    l = process_repo(n)\n",
    "    info.append(l)"
   ]
  },
  {
   "cell_type": "code",
   "execution_count": 43,
   "id": "648e7814",
   "metadata": {},
   "outputs": [
    {
     "data": {
      "text/plain": [
       "[{'repo': 'cashapp/InflationInject',\n",
       "  'language': 'Kotlin',\n",
       "  'readme_contents': '# Inflation Injection\\n\\nConstructor-inject views during XML layout inflation.\\n\\nLooking for Assisted Inject? It\\'s [built in to Dagger now](https://dagger.dev/dev-guide/assisted-injection.html)!\\n\\n\\n## Usage\\n\\nWrite your layout XML like normal.\\n\\n```xml\\n<LinearLayout>\\n  <com.example.CustomView/>\\n  <TextView/>\\n</LinearLayout>\\n```\\n\\nUse `@InflationInject` in `CustomView`:\\n\\n```java\\npublic final class CustomView extends View {\\n  private final Picasso picasso;\\n  \\n  @InflationInject\\n  public CustomView(\\n    @Inflated Context context,\\n    @Inflated AttributeSet attrs,\\n    Picasso picasso\\n  ) {\\n    super(context, attrs);\\n    this.picasso = picasso;\\n  }\\n  \\n  // ...\\n}\\n```\\n\\nIn order to allow Dagger to create your custom views, add `@InflationModule` to a Dagger module and\\nadd the generated module name to its `includes=`.\\n\\n```java\\n@InflationModule\\n@Module(includes = InflationInject_PresenterModule.class)\\nabstract class PresenterModule {}\\n```\\n\\nThe annotation processor will generate the `InflationInject_PresenterModule` for us. It will not be\\nresolved until the processor runs.\\n\\nFinally, inject `InflationInjectFactory` and add it to your `LayoutInflater`.\\n\\n```java\\nInflationInjectFactory factory = DaggerMainActivity_MainComponent.create().factory();\\ngetLayoutInflater().setFactory(factory);\\n\\nsetContentView(R.layout.main_view);\\n```\\n\\n\\n## Download\\n\\n```groovy\\nrepositories {\\n  mavenCentral()\\n}\\ndependencies {\\n  implementation \\'app.cash.inject:inflation-inject:1.0.1\\'\\n  annotationProcessor \\'app.cash.inject:inflation-inject-processor:1.0.1\\'\\n}\\n```\\n\\n<details>\\n<summary>Snapshots of the development version are available in Sonatype\\'s snapshots repository.</summary>\\n<p>\\n\\n```groovy\\nrepositories {\\n  maven {\\n    url \\'https://oss.sonatype.org/content/repositories/snapshots/\\'\\n  }\\n}\\ndependencies {\\n  implementation \\'app.cash.inject:inflation-inject:1.1.0-SNAPSHOT\\'\\n  annotationProcessor \\'app.cash.inject:inflation-inject-processor:1.1.0-SNAPSHOT\\'\\n}\\n```\\n\\n</p>\\n</details>\\n\\n\\n# License\\n\\n    Copyright 2017 Square, Inc.\\n\\n    Licensed under the Apache License, Version 2.0 (the \"License\");\\n    you may not use this file except in compliance with the License.\\n    You may obtain a copy of the License at\\n\\n       http://www.apache.org/licenses/LICENSE-2.0\\n\\n    Unless required by applicable law or agreed to in writing, software\\n    distributed under the License is distributed on an \"AS IS\" BASIS,\\n    WITHOUT WARRANTIES OR CONDITIONS OF ANY KIND, either express or implied.\\n    See the License for the specific language governing permissions and\\n    limitations under the License.\\n\\n'},\n",
       " {'repo': 'InflationX/ViewPump',\n",
       "  'language': 'Kotlin',\n",
       "  'readme_contents': 'ViewPump\\n========\\n\\nView inflation you can intercept.\\n\\nViewPump installs a custom LayoutInflater via a ContextThemeWrapper and provides an API of pre/post-inflation interceptors.\\n\\n## Getting started\\n\\n### Dependency\\n\\nInclude the dependency [Download (.aar)](http://search.maven.org/remotecontent?filepath=io/github/inflationx/viewpump/2.0.3/viewpump-2.0.3.aar) :\\n\\n```groovy\\ndependencies {\\n    implementation \\'io.github.inflationx:viewpump:2.0.3\\'\\n}\\n```\\n\\n### Usage\\n\\nDefine your interceptor. Below is a somewhat arbitrary example of a post-inflation interceptor that prefixes the text in a TextView.\\n\\n```java\\npublic class TextUpdatingInterceptor implements Interceptor {\\n    @Override\\n    public InflateResult intercept(Chain chain) {\\n        InflateResult result = chain.proceed(chain.request());\\n        if (result.view() instanceof TextView) {\\n            // Do something to result.view()\\n            // You have access to result.context() and result.attrs()\\n            TextView textView = (TextView) result.view();\\n            textView.setText(\"[Prefix] \" + textView.getText());\\n        }\\n        return result;\\n    }\\n}\\n```\\n\\nBelow is an example of a pre-inflation interceptor that returns a CustomTextView when a TextView was defined in the layout\\'s XML.\\n\\n```java\\npublic class CustomTextViewInterceptor implements Interceptor {\\n    @Override\\n    public InflateResult intercept(Chain chain) {\\n        InflateRequest request = chain.request();\\n        if (request.name().endsWith(\"TextView\")) {\\n            CustomTextView view = new CustomTextView(request.context(), request.attrs());\\n            return InflateResult.builder()\\n                    .view(view)\\n                    .name(view.getClass().getName())\\n                    .context(request.context())\\n                    .attrs(request.attrs())\\n                    .build();\\n        } else {\\n            return chain.proceed(request);\\n        }\\n    }\\n}\\n```\\n\\n### Installation\\n\\nAdd your interceptors to the `ViewPump.builder()`, in your `Application` class in the `#onCreate()` method and `init` the `ViewPump`. The order of the interceptors is important since they form the interceptor chain of requests and results.\\n\\nAn interceptor may choose to return a programmatically instantiated view rather than letting the default inflation occur, in which case interceptors added after it will be skipped. For this reason, it is better to add your post-inflation interceptors before the pre-inflation interceptors\\n\\n```java\\n@Override\\npublic void onCreate() {\\n    super.onCreate();\\n    ViewPump.init(ViewPump.builder()\\n                .addInterceptor(new TextUpdatingInterceptor())\\n                .addInterceptor(new CustomTextViewInterceptor())\\n                .build());\\n    //....\\n}\\n```\\n\\n### Inject into Context\\n\\nWrap the `Activity` Context:\\n\\n```java\\n@Override\\nprotected void attachBaseContext(Context newBase) {\\n    super.attachBaseContext(ViewPumpContextWrapper.wrap(newBase));\\n}\\n```\\n\\n_You\\'re good to go!_\\n\\nTo see more ideas for potential use cases, check out the [Recipes](https://github.com/InflationX/ViewPump/wiki/Recipes) wiki page.\\n\\n# Collaborators\\n\\n- [@jbarr21](https://github.com/jbarr21)\\n- [@chrisjenx](https://github.com/chrisjenx)\\n\\n# Licence\\n\\n    Copyright 2017 InflationX\\n\\n    Licensed under the Apache License, Version 2.0 (the \"License\");\\n    you may not use this file except in compliance with the License.\\n    You may obtain a copy of the License at\\n\\n        http://www.apache.org/licenses/LICENSE-2.0\\n\\n    Unless required by applicable law or agreed to in writing, software\\n    distributed under the License is distributed on an \"AS IS\" BASIS,\\n    WITHOUT WARRANTIES OR CONDITIONS OF ANY KIND, either express or implied.\\n    See the License for the specific language governing permissions and\\n    limitations under the License.\\n'},\n",
       " {'repo': 'rdeits/iris-distro',\n",
       "  'language': 'Matlab',\n",
       "  'readme_contents': \"Introduction\\n============\\n\\nThis package contains the IRIS algorithm for iterative convex regional inflation by semidefinite programming, implemented in C++ with bindings for Python. It is designed to take an environment containing many (convex) obstacles and a start point, and to compute a large convex obstacle-free region. This region can then be used to define linear constraints for some other objective function which the user might want to optimize over the obstacle-free space. The algorithm is described in:\\n\\nR.&nbsp;L.&nbsp;H. Deits and R.&nbsp;Tedrake, &ldquo;Computing large convex regions of\\n  obstacle-free space through semidefinite programming,&rdquo; <em>Workshop on the Algorithmic Fundamentals of Robotics</em>, Istanbul, Aug. 2014.\\n  [Online]. Available:\\n  <a href='http://groups.csail.mit.edu/robotics-center/public_papers/Deits14.pdf'>http://groups.csail.mit.edu/robotics-center/public_papers/Deits14.pdf</a>\\n\\n[![Build Status](https://travis-ci.org/rdeits/iris-distro.svg)](https://travis-ci.org/rdeits/iris-distro)\\n\\nMATLAB Support\\n==============\\n\\nA pure-MATLAB implementation of IRIS is also included in `src/matlab`. This will be slower and less flexible than the Python and C++ versions, but may be useful for legacy code.\\n\\nRequirements\\n============\\n\\nUbuntu (with apt-get):\\n\\n\\tpkg-config\\n\\tcmake\\n\\tlibgmp-dev\\n\\nMac OSX (with homebrew):\\n\\n\\tpkg-config\\n\\tcmake\\n\\tgmp\\n\\nYou'll also need some python packages to build and use the python bindings. You can install them on ubuntu with these apt-get packages:\\n\\n    python-numpy\\n    python-scipy\\n    python-matplotlib\\n    python-nose\\n    cython\\n\\nOr you can install the `liblapack-dev`, `libblas-dev`, and `gfortran` packages from apt-get, and then install the python modules with pip:\\n\\n\\tpip install -r python_requirements.txt\\n\\nYou'll also need a license for the Mosek optimization toolbox <https://www.mosek.com/> (this package includes a downloader for the Mosek code, but you have to get your own license). Mosek has free licenses available for academic use.\\n\\nInstallation\\n============\\n\\nThis project is configured as a standard CMake project, so the general build process is:\\n\\n\\tmkdir build\\n\\tcd build\\n\\tcmake ..\\n\\tmake\\n\\n------------------------------\\nInstallation without externals\\n------------------------------\\nBy default, IRIS will build its external dependencies as part of the build process. If you want to turn any or all of them off, you can set the `WITH_EIGEN`, `WITH_CDD`, and `WITH_MOSEK` options to `OFF` using cmake. The easiest way to do that is to run:\\n\\n    cd build\\n    ccmake .\\n\\nwhich will launch a terminal-based GUI to let you change those options. \\n\\nIf you're using IRIS as part of another project with cmake, you can just set the CMAKE_CACHE_ARGS to include `-DIRIS_WITH_EIGEN:BOOL=OFF` etc. For more information, see: <http://www.cmake.org/cmake/help/v3.0/module/ExternalProject.html>.\\n\\nExample Usage\\n=============\\n\\nPython wrapper\\n--------------\\n\\n\\tpython -m irispy.test.test_iris_2d\\n\\nC++ library\\n-----------\\n\\nSee `iris/src/iris_demo.cpp` for a basic usage example.\\n\\nExamples\\n========\\n\\nHere are some animations of the algorithm running in various\\nenvironments:\\n\\n2-dimensional space, 30 obstacles:\\n\\n![](https://rdeits.github.io/iris-distro/examples/poly_2d_N30/animation.gif)\\n\\n2-dimensional space, 50 obstacles:\\n\\n![](https://rdeits.github.io/iris-distro/examples/poly_2d_N50/animation.gif)\\n\\n2-dimensional space, 50 obstacles:\\n\\n![](https://rdeits.github.io/iris-distro/examples/poly_2d_N50_2/animation.gif)\\n\\n2-dimensional space, 1000 obstacles:\\n\\n![](https://rdeits.github.io/iris-distro/examples/poly_2d_N1000/animation.gif)\\n\\n3-dimensional space:\\n\\n![](https://rdeits.github.io/iris-distro/examples/poly_3d/animation.gif)\\n\\n3-dimensional space:\\n\\n![](https://rdeits.github.io/iris-distro/examples/poly_3d_2/animation.gif)\\n\\n3-dimensional configuration space of a rod-shaped robot translating and yawing:\\n\\n![](https://rdeits.github.io/iris-distro/examples/c_space_3d/animation.gif)\\n\\n3-dimensional slice of a 4-dimensional region among 4D obstacles:\\n\\n![](https://rdeits.github.io/iris-distro/examples/poly_4d/animation.gif)\\n\\nExample Application\\n===================\\nThis is a demonstration of path-planning for a simple UAV model around obstacles. Rather than constraining that the UAV be outside the obstacles, we seed several IRIS regions and require that the UAV be inside one of those regions at each time step. This turns a non-convex problem into a mixed-integer convex problem, which we can solve to its global optimum. You can try this out by running `iris.test.test_uav_demo();` or `iris.test.test_uav_demo('4d');`\\n\\n![](http://rdeits.github.io/iris-distro/examples/uav/demo_uav.png)\\n\"},\n",
       " {'repo': 'uhussain/WebCrawlerForOnlineInflation',\n",
       "  'language': 'Python',\n",
       "  'readme_contents': '# Table of Contents \\n1. [Introduction](README.md#introduction)\\n2. [Pipeline](README.md#pipeline)\\n3. [Requirements](README.md#requirements)\\n4. [Environment Set Up](README.md#Environment%20Setup)\\n5. [Repository Structure and Run Instructions](README.md#Repository%20Structure%20and%20Run%20Instructions)\\n\\n\\n# Introduction\\n**Price Crawler: Tracking Price Inflation**\\n\\nThis is a project completed in 3 weeks during the Insight Data Engineering Program (New York, 20B Session). The goal of this project is to calculate inflation rates from first principles.\\nThat means calculating inflation rate using prices of goods and services sold online.\\n\\nIn this project, I built a pipleine to use petabytes of web page data contained in the [Common Crawl](https://commoncrawl.org/), an archive of web page content \\nto calculate inflation rates. The results can be used to enhance investment strategies or by businesses in deciding the cost of products. A sample batch job has \\nbeen executed using online laptop prices ($500-$800) and the inflation rate in 2019 is measured to be 4.8% which is more than double the annual inflation rate of \\n2.3% reported by Bureau of labor statistics for 2019. A recording of the WebUI is also available [here](https://www.youtube.com/watch?v=mNcodsH5254&feature=youtu.be). \\n\\n# Pipeline\\nI built a data pipeline that utilizes petabytes of publicly available web page data to **Calculate Inflation rates from first principles (Prices of Products)**\\n\\n![pipeline](static/crawler_pipeline.png)\\n\\n1. AWS Athena to query indexed WARC Files using HTTP header information in WARC Files\\n    * Scan 0(100 GB) data instead of PB\\n2. **Keys** to webpages of interest saved in parquet files on S3\\n3. Parquet + WARC input to Spark with distributed processing over O(10 GB) data per job\\n4. Cleaning, filtering and aggregating Product and Price tables with Pandas in Python\\n5. Plotting and tracking price trends with Dash\\n\\n# Requirements\\n\\n1)  S3:  Set up and S3 bucket.  In this case:  s3://athena-east-2-usama/\\n2)  Athena:  Open Athena on AWS.  Follow the instructions to set up \"Running SQL Queries with Athena\" here:  https://commoncrawl.org/2018/03/index-to-warc-files-and-urls-in-columnar-format/\\n3)  Run Athena with the example in https://github.com/uhussain/WebCrawlerForOnlineInflation/athena/athena_instructions.txt\\n4)  Start EMR in Amazon with Spark and Hadoop.  SSH in.\\n5)  Add the following to ~/.bashrc and source ~/.bashrc:\\nexport SPARK_HOME=/usr/lib/spark\\nexport PYTHONPATH=$SPARK_HOME/python/lib/py4j-0.10.7-src.zip:$PYTHONPATH  \\nexport PYTHONPATH=$SPARK_HOME/python:$SPARK_HOME/python/build:$PYTHONPATH\\n6)  Install the following on EMR (both master and workers) with \"pip install --user\":  warcio, boto3, bs4, nltk \\n7)  Execute main.py in master node.\\n\\n**Languages** \\n* Bash\\n* Python 3.7\\n* Pandas\\n\\n**Technologies**\\n* Spark\\n* AWS Athena\\n* Dash/Plotly\\n\\n**Third-Party Libraries**\\n* AWS CLI\\n\\n# Environment Setup\\nInstall and configure [AWS](https://aws.amazon.com/cli/) and the open-source tool and setup an AWS EMR cluster. At launch time, emr-5.30.0 version was used.\\nIt comes with Python version 3.7.6, pyspark version 2.4.5-amzn-0 and Zeppelin 0.8.2.\\n\\n\\n**AWS EMR Clusters Setup**\\n\\nCurrently using only one master node and two core nodes (can be scaled up)\\n\\n# Repository Structure and Run Instructions\\n\\n\\n`./athena/` contains instructions on how to query common crawl data with AWS Athena .\\n\\n`./spark/` contains the main.py spark script to launch spark jobs using the output from athena query\\n\\n```\\nspark-submit ./spark/main.py -in walmart_laptops_2018 -o walmart_parquet_2018\\n```\\n\\n`./pandas/`contains python script to clean the output from spark and provide csv file to dashapp/app.py\\n\\n```\\npython3 pandas/cleaner.py\\n```\\n\\n`./dashapp/` contains a dash app to visualize trends in online prices in laptops across time\\n\\n```\\npython3 dashapp/price_tracker.py\\n```\\n\\n# Development work\\nI built a rapid prototype of the pipeline during the first week to understand the scope of the problem and learn textual and HTML content analysis. \\nIngested data from AWS S3, cleaned and filtered with single-threaded python script and aggregated product information in a local Amazon DyanmoDB database\\n\\n`./prototype/` contains all python configuration files and scripts for running the project locally and output product info to a local amazon dynamoDB table\\n\\nLanguages \\n* Bash\\n* Python 3.7\\n\\nTechnologies\\n\\n* Amazon DynamoDB\\n\\n'},\n",
       " {'repo': 'sandes/zipfly',\n",
       "  'language': 'Python',\n",
       "  'readme_contents': '[![Build Status](https://img.shields.io/circleci/build/github/sandes/zipfly/master)](https://app.circleci.com/pipelines/github/sandes/zipfly)\\n![GitHub release (latest by date)](https://img.shields.io/github/v/release/buzonio/zipfly)\\n[![Downloads](https://pepy.tech/badge/zipfly)](https://pepy.tech/project/zipfly)\\n\\n# ZipFly\\n\\nZipFly is a zip archive generator based on zipfile.py.\\nIt was created by <a href=\"https://santiagodebus.com\" target=\"blank\">Santiago Debus</a> to generate very large ZIP archives for immediate sending out to clients, or for writing large ZIP archives without memory inflation.\\n\\n# Requirements\\nPython 3.6+ Added <a href=\"https://docs.python.org/3/library/zipfile.html#zipfile-objects\" target=\"blank\">support</a> for writing to unseekable streams.\\n\\n# Install\\n    pip3 install zipfly\\n\\n# Basic usage, compress on-the-fly during writes\\nUsing this library will save you from having to write the Zip to disk. Some data will be buffered by the zipfile deflater, but memory inflation is going to be very constrained. Data will be written to destination by default at regular 32KB intervals.\\n\\n\\n`ZipFly` defaults attributes:<br>    \\n- <b>paths:</b> [ ] <br/>\\n- <b>mode:</b> (write) w <br/>\\n- <b>chunksize:</b> (bytes) 32768 <br/>\\n- <b>compression:</b> Stored <br/>\\n- <b>allowZip64:</b> True <br/>\\n- <b>compresslevel:</b> None <br/>\\n- <b>storesize:</b> (bytes) 0 <br/>\\n- <b>encode:</b> utf-8 <br/>\\n\\n<br/>\\n\\n\\n\\n`paths` <b>list of dictionaries:</b>\\n\\n|                   |.                          \\n|----------------   |-------------------------------      \\n|**fs**             |Should be the path to a file on the filesystem            \\n|**n** *(Optional)* |Is the name which it will have within the archive <br> (by default, this will be the same as **fs**)\\n\\n<br>\\n\\n```python\\n\\n    import zipfly\\n\\n    paths = [\\n        {\\n            \\'fs\\': \\'/path/to/large/file\\'\\n        },\\n    ]\\n\\n    zfly = zipfly.ZipFly(paths = paths)\\n\\n    generator = zfly.generator()\\n    print (generator)\\n    # <generator object ZipFly.generator at 0x7f74d52bcc50>\\n\\n\\n    with open(\"large.zip\", \"wb\") as f:\\n        for i in generator:\\n            f.write(i)\\n\\n```\\n\\n\\n# Examples\\n\\n> <b>Streaming multiple files in a zip with <a href=\"https://github.com/sandes/zipfly/blob/master/examples/streaming_django.py\" target=\"_blank\">Django</a> or <a href=\"https://github.com/sandes/zipfly/blob/master/examples/streaming_flask.py\" target=\"_blank\">Flask</a></b>\\nSend forth large files to clients with the most popular frameworks\\n\\n> <b>Create paths</b>\\nEasy way to create the array `paths` from a parent folder.\\n\\n> <b>Predict the size of the zip file before creating it</b>\\nUse the `BufferPredictionSize` to compute the correct size of the resulting archive before creating it.\\n\\n> <b>Streaming a large file</b>\\nEfficient way to read a single very large binary file in python\\n\\n> <b>Set a comment</b>\\nYour own comment in the zip file\\n\\n\\n# Maintainer\\nSantiago Debus <a href=\"http://santiagodebus.com/\" target=\"_blank\">(@santiagodebus.com)</a><br>\\n\\n\\n# License\\nThis library was created by Buzon.io and is released under the MIT. Copyright 2021 Cardallot, Inc.\\n'},\n",
       " {'repo': 'B3nedikt/ViewPump',\n",
       "  'language': 'Kotlin',\n",
       "  'readme_contents': '[![Maven Central](https://maven-badges.herokuapp.com/maven-central/dev.b3nedikt.viewpump/viewpump/badge.svg)](https://maven-badges.herokuapp.com/maven-central/dev.b3nedikt.viewpump/viewpump)\\n\\n# ViewPump 4.0.10\\n\\nView inflation you can intercept using an API of pre/post-inflation interceptors.\\n\\n## Getting started\\n\\n### Dependency\\n\\nInclude the dependencies:\\n\\n```groovy\\ndependencies {\\n\\n    implementation \\'androidx.appcompat:appcompat:1.2.0\\'\\n\\n    implementation \\'dev.b3nedikt.viewpump:viewpump:4.0.10\\'\\n}\\n```\\n\\n### Usage\\n\\nDefine your interceptor. Below is a somewhat arbitrary example of a post-inflation interceptor that prefixes the text in a TextView.\\n\\n```java\\npublic class TextUpdatingInterceptor implements Interceptor {\\n\\n  @Override\\n  public InflateResult intercept(Chain chain) {\\n    InflateResult result = chain.proceed(chain.request());\\n    if (result.view() instanceof TextView) {\\n      // Do something to result.view()\\n      // You have access to result.context() and result.attrs()\\n      TextView textView = (TextView) result.view();\\n      textView.setText(\"[Prefix] \" + textView.getText());\\n    }\\n    return result;\\n  }\\n}\\n```\\n\\nBelow is an example of a pre-inflation interceptor that returns a CustomTextView when a TextView was defined in the layout\\'s XML.\\n\\n```java\\npublic class CustomTextViewInterceptor implements Interceptor {\\n\\n  @NotNull\\n  @Override\\n  public InflateResult intercept(Chain chain) {\\n    InflateRequest request = chain.request();\\n    View view = inflateView(\\n      request.getName(),\\n      request.getContext(),\\n      request.getAttrs()\\n    );\\n\\n    if (view != null) {\\n      return new InflateResult(\\n        view,\\n        request.getName(),\\n        request.getContext(),\\n        request.getAttrs()\\n      );\\n    } else {\\n      return chain.proceed(request);\\n    }\\n  }\\n\\n  @Nullable\\n  private View inflateView(String name, Context context, AttributeSet attrs) {\\n    if (\"TextView\".equals(name)) {\\n      return new CustomTextView(context, attrs);\\n    }\\n    return null;\\n  }\\n}\\n```\\n\\n### Installation\\n\\nAdd your interceptors to the `ViewPump.builder()`, in your `Application` class in the `#onCreate()` method and `init` the `ViewPump`. The order of the interceptors is important since they form the interceptor chain of requests and results.\\n\\nAn interceptor may choose to return a programmatically instantiated view rather than letting the default inflation occur, in which case interceptors added after it will be skipped. For this reason, it is better to add your post-inflation interceptors before the pre-inflation interceptors\\n\\n```java\\n@Override\\npublic void onCreate() {\\n    super.onCreate();\\n\\n    ViewPump.init(new TextUpdatingInterceptor(), new CustomTextViewInterceptor());\\n    //....\\n}\\n```\\n\\n### Inject into Context\\n\\nAdd the following to your base activitiy:\\n\\n```java\\npublic class MainActivity extends AppCompatActivity {\\n\\n    private AppCompatDelegate appCompatDelegate = null;\\n\\n    ...\\n\\n    @NonNull\\n    @Override\\n    public AppCompatDelegate getDelegate() {\\n        if (appCompatDelegate == null) {\\n            appCompatDelegate = new ViewPumpAppCompatDelegate(\\n                    super.getDelegate(),\\n                    this\\n            );\\n        }\\n        return appCompatDelegate;\\n    }\\n}\\n```\\n\\nFor practical examples see my libraries [Restring](https://github.com/B3nedikt/restring) or [AppLocale](https://github.com/B3nedikt/AppLocale).\\n\\n## Collaborators\\n\\nThis library was originally created by:\\n\\n- [@jbarr21](https://github.com/jbarr21)\\n- [@chrisjenx](https://github.com/chrisjenx)\\n\\nMy fork has nearly all the code changed though and has a slightly different API.\\n\\n## Licence\\n\\n    Copyright 2017 InflationX & Contributors\\n\\n    Licensed under the Apache License, Version 2.0 (the \"License\");\\n    you may not use this file except in compliance with the License.\\n    You may obtain a copy of the License at\\n\\n        http://www.apache.org/licenses/LICENSE-2.0\\n\\n    Unless required by applicable law or agreed to in writing, software\\n    distributed under the License is distributed on an \"AS IS\" BASIS,\\n    WITHOUT WARRANTIES OR CONDITIONS OF ANY KIND, either express or implied.\\n    See the License for the specific language governing permissions and\\n    limitations under the License.\\n'},\n",
       " {'repo': 'inflationcoin/inflationcoin',\n",
       "  'language': 'C++',\n",
       "  'readme_contents': \"InflationCoin - IFLT\\r\\n\\r\\nInflationCoin is an X11 PoW/PoS coin. It is a coin that integrated with true random super bonus block features. It uses high PoS as a way of distributing fairly the coins to community.\\r\\n\\r\\n- X11 hash algorithm, PoW/PoS mixed\\r\\n- 5 transaction confirmations\\r\\n- 70 minted block confirmations\\r\\n- Total coins will be 10 billions\\r\\n- The coin will be a pure PoS coin after 3 months of PoW mining.\\r\\n- A 2.5% premine for bounties and to fund servers and dev expenses\\r\\n\\r\\nPoW details:\\r\\n- 60 sec PoW block target time\\r\\n- difficulty retarget each block for PoW\\r\\n- Payout will be 1,000 coins per block\\r\\n- Every day there will be a random super block with 1000X normal payment (1,000,000 coins), it is true randomness and can't be taken advantage by big hashpowers\\r\\n- PoW will be terminated after 90 days.\\r\\n\\r\\nPoS details:\\r\\n- 60 sec PoS block time\\r\\n- diff retarget each block for PoS\\r\\n- minimum hold for PoS: 24 hours\\r\\n- maximum hold for PoS: 60 days\\r\\n- Variable PoS annual payout rate:\\r\\n\\t- 1st year: 800%\\r\\n\\t- 2nd year: 80%\\r\\n\\t- 3rd year: 8%\\r\\n\\t- subsequent years: 4%\\r\\n\\r\\nPorts:\\r\\nconnection:\\t11370\\r\\nRPC:\\t\\t\\t11371\\r\\n\"},\n",
       " {'repo': 'anishsingh20/Time-series-analysis-of-Inflation-rates-using-ShinyDashboard',\n",
       "  'language': 'R',\n",
       "  'readme_contents': \"# Analzying-Inflation-Rates-Worldwide-using-ShinyDashboard\\n\\nThis project aims at studying and analyzing the inflation rates of countries and major economic unions globally. The dataset is a public dataset downloaded from International Monetary Fund(IMF) which consists of the inflation rates of countries from 1980 to 2017 and the projected inflation rates of the countries till 2022.\\n\\nAfter basic descriptive and exploratory data analysis, I have made a __Shiny Dashboard__ in R to visualize the inflation rates of countries, economic trade unions as well as world. Link to the deployed app is added below.\\n\\nLink to the app--https://anishwalia20.shinyapps.io/AnalysisofInflationRates/\\n\\n\\nThe folder __Inflation-Rates__ contains the dashboard's code and its implementation in R. For visualizing I have used __'highcharter'__ package which is an amazing package to make beautiful and amazing plots in R for web apps and dashboards.The syntax for 'highcharter' is similar to 'ggplot2' syntax.\\n\\nMore details about the package can be found at this link- http://jkunst.com/highcharter/ .\\n\\n\\n\\n### What is Inflation rate?\\n\\nInflation rates are the general rate at which price of the goods and services within a particular economy are rising and the __purchasing power__ of the currency is declining due to the highly priced goods. High inflation is definately not good for an economy because it will always reduce the value for money. In general central banks of an ecomony tries to and work towards reducing the inflation rate and avoiding __deflation__. Very high inflation rates will devalue the country's currency and will result in further depreciation of currency's exchange value.\\n\\nSay for example India's current inflation rate is 10%, this means that the __INR(indian rupees)__ has depreciated by 10% against any other foreign currency. This greatly affects the payments received by the exporting bodies, import prices of goods etc. _*Imported goods usually gets costlier and exported goods will get cheaper when the nations's currency is weaker and is depreciating against any other nation's whose currency is stronger and appreciating*_.\\n\\n__Deflation__ is opposite of inflation. Deflation occurs when the inflation rates become negetive or are below 0. Deflation is more harmful and dangerous for an economy because it means that the prices of goods and services are going to decrease. Now this sounds amazing for consumers like us. But what actually happens is that the demand of goods and services have declined over a long term of time which has lead to over-production og goods and services. Deflation is more evil then inflation. Deflation causes unemployment, loss of jobs, decline in money wages, decreasing exxpenditure and decreasing demands of goods. This results in losses for business owners and Producers in the economy. It causes decrease in National Income, employment, and output. This directly indicates that a __recession__ is on its way. This brings job losses , declining wages and a big hit to the stock portfolio. Deflation slows economy's growth and causes stagnation of economic acivities. It is a time of depression for all businesses and producers. As prices fall , people defer(postpone) purchases in hope of a better lower price deal. Due to this companies and firms have to cut down the cost of their goods and products which directly affects the wages of the employees which have to be lowered. \\n\\n\\n------\\n\\n### Inflation Rates of India over time\\n\\n![github plot](https://github.com/anishsingh20/Analzying-Inflation-Rates-Worldwide/blob/master/Plots/Inf-India.png)\\n\\n\\n\"},\n",
       " {'repo': 'stream-utils/inflation',\n",
       "  'language': 'JavaScript',\n",
       "  'readme_contents': \"# inflation\\n\\n[![NPM version](https://badge.fury.io/js/inflation.svg)](http://badge.fury.io/js/inflation)\\n[![Build Status](https://travis-ci.org/stream-utils/inflation.svg?branch=master)](https://travis-ci.org/stream-utils/inflation)\\n[![Coverage Status](https://img.shields.io/coveralls/stream-utils/inflation.svg?branch=master)](https://coveralls.io/r/stream-utils/inflation)\\n\\nAutomatically unzip an HTTP stream.\\n\\n## API\\n\\n```js\\nvar inflate = require('inflation')\\n```\\n\\n### inflate(stream, options)\\n\\nReturns a stream that emits inflated data from the given stream.\\n\\nOptions:\\n\\n- `encoding` - The encoding of the stream (`gzip` or `deflate`).\\n  If not given, will look in `stream.headers['content-encoding']`.\\n\\n## Example\\n\\n```js\\nvar inflate = require('inflation')\\nvar raw     = require('raw-body')\\n\\nhttp.createServer(function (req, res) {\\n  raw(inflate(req), 'utf-8', function (err, string) {\\n    console.dir(string)\\n  })\\n})\\n```\\n\"},\n",
       " {'repo': 'palewire/cpi',\n",
       "  'language': 'Jupyter Notebook',\n",
       "  'readme_contents': '### Links\\n\\n* Docs: [palewi.re/docs/cpi/](https://palewi.re/docs/cpi/)\\n* Code: [github.com/datadesk/cpi](https://github.com/datadesk/cpi/)\\n* Issues: [github.com/datadesk/cpi/issues](https://github.com/datadesk/cpi/issues)\\n* Packaging: [pypi.python.org/pypi/cpi](https://pypi.python.org/pypi/cpi)\\n* Testing: [github.com/datadesk/cpi/actions](https://github.com/datadesk/cpi/actions)\\n'}]"
      ]
     },
     "execution_count": 43,
     "metadata": {},
     "output_type": "execute_result"
    }
   ],
   "source": [
    "info"
   ]
  },
  {
   "cell_type": "code",
   "execution_count": 44,
   "id": "32ceb0be",
   "metadata": {},
   "outputs": [],
   "source": [
    "med_list = rep_nam_list[:100]"
   ]
  },
  {
   "cell_type": "code",
   "execution_count": 46,
   "id": "93e4679e",
   "metadata": {},
   "outputs": [
    {
     "ename": "MissingSchema",
     "evalue": "Invalid URL '': No scheme supplied. Perhaps you meant http://?",
     "output_type": "error",
     "traceback": [
      "\u001b[0;31m---------------------------------------------------------------------------\u001b[0m",
      "\u001b[0;31mMissingSchema\u001b[0m                             Traceback (most recent call last)",
      "Input \u001b[0;32mIn [46]\u001b[0m, in \u001b[0;36m<cell line: 2>\u001b[0;34m()\u001b[0m\n\u001b[1;32m      1\u001b[0m info_m \u001b[38;5;241m=\u001b[39m []\n\u001b[1;32m      2\u001b[0m \u001b[38;5;28;01mfor\u001b[39;00m n \u001b[38;5;129;01min\u001b[39;00m med_list:\n\u001b[0;32m----> 3\u001b[0m     l \u001b[38;5;241m=\u001b[39m \u001b[43mprocess_repo\u001b[49m\u001b[43m(\u001b[49m\u001b[43mn\u001b[49m\u001b[43m)\u001b[49m\n\u001b[1;32m      4\u001b[0m     info_m\u001b[38;5;241m.\u001b[39mappend(l)\n",
      "Input \u001b[0;32mIn [3]\u001b[0m, in \u001b[0;36mprocess_repo\u001b[0;34m(repo)\u001b[0m\n\u001b[1;32m     36\u001b[0m \u001b[38;5;124;03m\"\"\"\u001b[39;00m\n\u001b[1;32m     37\u001b[0m \u001b[38;5;124;03mTakes a repo name like \"gocodeup/codeup-setup-script\" and returns a\u001b[39;00m\n\u001b[1;32m     38\u001b[0m \u001b[38;5;124;03mdictionary with the language of the repo and the readme contents.\u001b[39;00m\n\u001b[1;32m     39\u001b[0m \u001b[38;5;124;03m\"\"\"\u001b[39;00m\n\u001b[1;32m     40\u001b[0m contents \u001b[38;5;241m=\u001b[39m get_repo_contents(repo)\n\u001b[0;32m---> 41\u001b[0m readme_contents \u001b[38;5;241m=\u001b[39m \u001b[43mrequests\u001b[49m\u001b[38;5;241;43m.\u001b[39;49m\u001b[43mget\u001b[49m\u001b[43m(\u001b[49m\u001b[43mget_readme_download_url\u001b[49m\u001b[43m(\u001b[49m\u001b[43mcontents\u001b[49m\u001b[43m)\u001b[49m\u001b[43m)\u001b[49m\u001b[38;5;241m.\u001b[39mtext\n\u001b[1;32m     42\u001b[0m \u001b[38;5;28;01mreturn\u001b[39;00m {\n\u001b[1;32m     43\u001b[0m     \u001b[38;5;124m\"\u001b[39m\u001b[38;5;124mrepo\u001b[39m\u001b[38;5;124m\"\u001b[39m: repo,\n\u001b[1;32m     44\u001b[0m     \u001b[38;5;124m\"\u001b[39m\u001b[38;5;124mlanguage\u001b[39m\u001b[38;5;124m\"\u001b[39m: get_repo_language(repo),\n\u001b[1;32m     45\u001b[0m     \u001b[38;5;124m\"\u001b[39m\u001b[38;5;124mreadme_contents\u001b[39m\u001b[38;5;124m\"\u001b[39m: readme_contents,\n\u001b[1;32m     46\u001b[0m }\n",
      "File \u001b[0;32m/opt/homebrew/anaconda3/lib/python3.9/site-packages/requests/api.py:75\u001b[0m, in \u001b[0;36mget\u001b[0;34m(url, params, **kwargs)\u001b[0m\n\u001b[1;32m     64\u001b[0m \u001b[38;5;28;01mdef\u001b[39;00m \u001b[38;5;21mget\u001b[39m(url, params\u001b[38;5;241m=\u001b[39m\u001b[38;5;28;01mNone\u001b[39;00m, \u001b[38;5;241m*\u001b[39m\u001b[38;5;241m*\u001b[39mkwargs):\n\u001b[1;32m     65\u001b[0m     \u001b[38;5;124mr\u001b[39m\u001b[38;5;124;03m\"\"\"Sends a GET request.\u001b[39;00m\n\u001b[1;32m     66\u001b[0m \n\u001b[1;32m     67\u001b[0m \u001b[38;5;124;03m    :param url: URL for the new :class:`Request` object.\u001b[39;00m\n\u001b[0;32m   (...)\u001b[0m\n\u001b[1;32m     72\u001b[0m \u001b[38;5;124;03m    :rtype: requests.Response\u001b[39;00m\n\u001b[1;32m     73\u001b[0m \u001b[38;5;124;03m    \"\"\"\u001b[39;00m\n\u001b[0;32m---> 75\u001b[0m     \u001b[38;5;28;01mreturn\u001b[39;00m \u001b[43mrequest\u001b[49m\u001b[43m(\u001b[49m\u001b[38;5;124;43m'\u001b[39;49m\u001b[38;5;124;43mget\u001b[39;49m\u001b[38;5;124;43m'\u001b[39;49m\u001b[43m,\u001b[49m\u001b[43m \u001b[49m\u001b[43murl\u001b[49m\u001b[43m,\u001b[49m\u001b[43m \u001b[49m\u001b[43mparams\u001b[49m\u001b[38;5;241;43m=\u001b[39;49m\u001b[43mparams\u001b[49m\u001b[43m,\u001b[49m\u001b[43m \u001b[49m\u001b[38;5;241;43m*\u001b[39;49m\u001b[38;5;241;43m*\u001b[39;49m\u001b[43mkwargs\u001b[49m\u001b[43m)\u001b[49m\n",
      "File \u001b[0;32m/opt/homebrew/anaconda3/lib/python3.9/site-packages/requests/api.py:61\u001b[0m, in \u001b[0;36mrequest\u001b[0;34m(method, url, **kwargs)\u001b[0m\n\u001b[1;32m     57\u001b[0m \u001b[38;5;66;03m# By using the 'with' statement we are sure the session is closed, thus we\u001b[39;00m\n\u001b[1;32m     58\u001b[0m \u001b[38;5;66;03m# avoid leaving sockets open which can trigger a ResourceWarning in some\u001b[39;00m\n\u001b[1;32m     59\u001b[0m \u001b[38;5;66;03m# cases, and look like a memory leak in others.\u001b[39;00m\n\u001b[1;32m     60\u001b[0m \u001b[38;5;28;01mwith\u001b[39;00m sessions\u001b[38;5;241m.\u001b[39mSession() \u001b[38;5;28;01mas\u001b[39;00m session:\n\u001b[0;32m---> 61\u001b[0m     \u001b[38;5;28;01mreturn\u001b[39;00m \u001b[43msession\u001b[49m\u001b[38;5;241;43m.\u001b[39;49m\u001b[43mrequest\u001b[49m\u001b[43m(\u001b[49m\u001b[43mmethod\u001b[49m\u001b[38;5;241;43m=\u001b[39;49m\u001b[43mmethod\u001b[49m\u001b[43m,\u001b[49m\u001b[43m \u001b[49m\u001b[43murl\u001b[49m\u001b[38;5;241;43m=\u001b[39;49m\u001b[43murl\u001b[49m\u001b[43m,\u001b[49m\u001b[43m \u001b[49m\u001b[38;5;241;43m*\u001b[39;49m\u001b[38;5;241;43m*\u001b[39;49m\u001b[43mkwargs\u001b[49m\u001b[43m)\u001b[49m\n",
      "File \u001b[0;32m/opt/homebrew/anaconda3/lib/python3.9/site-packages/requests/sessions.py:515\u001b[0m, in \u001b[0;36mSession.request\u001b[0;34m(self, method, url, params, data, headers, cookies, files, auth, timeout, allow_redirects, proxies, hooks, stream, verify, cert, json)\u001b[0m\n\u001b[1;32m    502\u001b[0m \u001b[38;5;66;03m# Create the Request.\u001b[39;00m\n\u001b[1;32m    503\u001b[0m req \u001b[38;5;241m=\u001b[39m Request(\n\u001b[1;32m    504\u001b[0m     method\u001b[38;5;241m=\u001b[39mmethod\u001b[38;5;241m.\u001b[39mupper(),\n\u001b[1;32m    505\u001b[0m     url\u001b[38;5;241m=\u001b[39murl,\n\u001b[0;32m   (...)\u001b[0m\n\u001b[1;32m    513\u001b[0m     hooks\u001b[38;5;241m=\u001b[39mhooks,\n\u001b[1;32m    514\u001b[0m )\n\u001b[0;32m--> 515\u001b[0m prep \u001b[38;5;241m=\u001b[39m \u001b[38;5;28;43mself\u001b[39;49m\u001b[38;5;241;43m.\u001b[39;49m\u001b[43mprepare_request\u001b[49m\u001b[43m(\u001b[49m\u001b[43mreq\u001b[49m\u001b[43m)\u001b[49m\n\u001b[1;32m    517\u001b[0m proxies \u001b[38;5;241m=\u001b[39m proxies \u001b[38;5;129;01mor\u001b[39;00m {}\n\u001b[1;32m    519\u001b[0m settings \u001b[38;5;241m=\u001b[39m \u001b[38;5;28mself\u001b[39m\u001b[38;5;241m.\u001b[39mmerge_environment_settings(\n\u001b[1;32m    520\u001b[0m     prep\u001b[38;5;241m.\u001b[39murl, proxies, stream, verify, cert\n\u001b[1;32m    521\u001b[0m )\n",
      "File \u001b[0;32m/opt/homebrew/anaconda3/lib/python3.9/site-packages/requests/sessions.py:443\u001b[0m, in \u001b[0;36mSession.prepare_request\u001b[0;34m(self, request)\u001b[0m\n\u001b[1;32m    440\u001b[0m     auth \u001b[38;5;241m=\u001b[39m get_netrc_auth(request\u001b[38;5;241m.\u001b[39murl)\n\u001b[1;32m    442\u001b[0m p \u001b[38;5;241m=\u001b[39m PreparedRequest()\n\u001b[0;32m--> 443\u001b[0m \u001b[43mp\u001b[49m\u001b[38;5;241;43m.\u001b[39;49m\u001b[43mprepare\u001b[49m\u001b[43m(\u001b[49m\n\u001b[1;32m    444\u001b[0m \u001b[43m    \u001b[49m\u001b[43mmethod\u001b[49m\u001b[38;5;241;43m=\u001b[39;49m\u001b[43mrequest\u001b[49m\u001b[38;5;241;43m.\u001b[39;49m\u001b[43mmethod\u001b[49m\u001b[38;5;241;43m.\u001b[39;49m\u001b[43mupper\u001b[49m\u001b[43m(\u001b[49m\u001b[43m)\u001b[49m\u001b[43m,\u001b[49m\n\u001b[1;32m    445\u001b[0m \u001b[43m    \u001b[49m\u001b[43murl\u001b[49m\u001b[38;5;241;43m=\u001b[39;49m\u001b[43mrequest\u001b[49m\u001b[38;5;241;43m.\u001b[39;49m\u001b[43murl\u001b[49m\u001b[43m,\u001b[49m\n\u001b[1;32m    446\u001b[0m \u001b[43m    \u001b[49m\u001b[43mfiles\u001b[49m\u001b[38;5;241;43m=\u001b[39;49m\u001b[43mrequest\u001b[49m\u001b[38;5;241;43m.\u001b[39;49m\u001b[43mfiles\u001b[49m\u001b[43m,\u001b[49m\n\u001b[1;32m    447\u001b[0m \u001b[43m    \u001b[49m\u001b[43mdata\u001b[49m\u001b[38;5;241;43m=\u001b[39;49m\u001b[43mrequest\u001b[49m\u001b[38;5;241;43m.\u001b[39;49m\u001b[43mdata\u001b[49m\u001b[43m,\u001b[49m\n\u001b[1;32m    448\u001b[0m \u001b[43m    \u001b[49m\u001b[43mjson\u001b[49m\u001b[38;5;241;43m=\u001b[39;49m\u001b[43mrequest\u001b[49m\u001b[38;5;241;43m.\u001b[39;49m\u001b[43mjson\u001b[49m\u001b[43m,\u001b[49m\n\u001b[1;32m    449\u001b[0m \u001b[43m    \u001b[49m\u001b[43mheaders\u001b[49m\u001b[38;5;241;43m=\u001b[39;49m\u001b[43mmerge_setting\u001b[49m\u001b[43m(\u001b[49m\u001b[43mrequest\u001b[49m\u001b[38;5;241;43m.\u001b[39;49m\u001b[43mheaders\u001b[49m\u001b[43m,\u001b[49m\u001b[43m \u001b[49m\u001b[38;5;28;43mself\u001b[39;49m\u001b[38;5;241;43m.\u001b[39;49m\u001b[43mheaders\u001b[49m\u001b[43m,\u001b[49m\u001b[43m \u001b[49m\u001b[43mdict_class\u001b[49m\u001b[38;5;241;43m=\u001b[39;49m\u001b[43mCaseInsensitiveDict\u001b[49m\u001b[43m)\u001b[49m\u001b[43m,\u001b[49m\n\u001b[1;32m    450\u001b[0m \u001b[43m    \u001b[49m\u001b[43mparams\u001b[49m\u001b[38;5;241;43m=\u001b[39;49m\u001b[43mmerge_setting\u001b[49m\u001b[43m(\u001b[49m\u001b[43mrequest\u001b[49m\u001b[38;5;241;43m.\u001b[39;49m\u001b[43mparams\u001b[49m\u001b[43m,\u001b[49m\u001b[43m \u001b[49m\u001b[38;5;28;43mself\u001b[39;49m\u001b[38;5;241;43m.\u001b[39;49m\u001b[43mparams\u001b[49m\u001b[43m)\u001b[49m\u001b[43m,\u001b[49m\n\u001b[1;32m    451\u001b[0m \u001b[43m    \u001b[49m\u001b[43mauth\u001b[49m\u001b[38;5;241;43m=\u001b[39;49m\u001b[43mmerge_setting\u001b[49m\u001b[43m(\u001b[49m\u001b[43mauth\u001b[49m\u001b[43m,\u001b[49m\u001b[43m \u001b[49m\u001b[38;5;28;43mself\u001b[39;49m\u001b[38;5;241;43m.\u001b[39;49m\u001b[43mauth\u001b[49m\u001b[43m)\u001b[49m\u001b[43m,\u001b[49m\n\u001b[1;32m    452\u001b[0m \u001b[43m    \u001b[49m\u001b[43mcookies\u001b[49m\u001b[38;5;241;43m=\u001b[39;49m\u001b[43mmerged_cookies\u001b[49m\u001b[43m,\u001b[49m\n\u001b[1;32m    453\u001b[0m \u001b[43m    \u001b[49m\u001b[43mhooks\u001b[49m\u001b[38;5;241;43m=\u001b[39;49m\u001b[43mmerge_hooks\u001b[49m\u001b[43m(\u001b[49m\u001b[43mrequest\u001b[49m\u001b[38;5;241;43m.\u001b[39;49m\u001b[43mhooks\u001b[49m\u001b[43m,\u001b[49m\u001b[43m \u001b[49m\u001b[38;5;28;43mself\u001b[39;49m\u001b[38;5;241;43m.\u001b[39;49m\u001b[43mhooks\u001b[49m\u001b[43m)\u001b[49m\u001b[43m,\u001b[49m\n\u001b[1;32m    454\u001b[0m \u001b[43m\u001b[49m\u001b[43m)\u001b[49m\n\u001b[1;32m    455\u001b[0m \u001b[38;5;28;01mreturn\u001b[39;00m p\n",
      "File \u001b[0;32m/opt/homebrew/anaconda3/lib/python3.9/site-packages/requests/models.py:318\u001b[0m, in \u001b[0;36mPreparedRequest.prepare\u001b[0;34m(self, method, url, headers, files, data, params, auth, cookies, hooks, json)\u001b[0m\n\u001b[1;32m    315\u001b[0m \u001b[38;5;124;03m\"\"\"Prepares the entire request with the given parameters.\"\"\"\u001b[39;00m\n\u001b[1;32m    317\u001b[0m \u001b[38;5;28mself\u001b[39m\u001b[38;5;241m.\u001b[39mprepare_method(method)\n\u001b[0;32m--> 318\u001b[0m \u001b[38;5;28;43mself\u001b[39;49m\u001b[38;5;241;43m.\u001b[39;49m\u001b[43mprepare_url\u001b[49m\u001b[43m(\u001b[49m\u001b[43murl\u001b[49m\u001b[43m,\u001b[49m\u001b[43m \u001b[49m\u001b[43mparams\u001b[49m\u001b[43m)\u001b[49m\n\u001b[1;32m    319\u001b[0m \u001b[38;5;28mself\u001b[39m\u001b[38;5;241m.\u001b[39mprepare_headers(headers)\n\u001b[1;32m    320\u001b[0m \u001b[38;5;28mself\u001b[39m\u001b[38;5;241m.\u001b[39mprepare_cookies(cookies)\n",
      "File \u001b[0;32m/opt/homebrew/anaconda3/lib/python3.9/site-packages/requests/models.py:392\u001b[0m, in \u001b[0;36mPreparedRequest.prepare_url\u001b[0;34m(self, url, params)\u001b[0m\n\u001b[1;32m    389\u001b[0m     error \u001b[38;5;241m=\u001b[39m (\u001b[38;5;124m\"\u001b[39m\u001b[38;5;124mInvalid URL \u001b[39m\u001b[38;5;132;01m{0!r}\u001b[39;00m\u001b[38;5;124m: No scheme supplied. Perhaps you meant http://\u001b[39m\u001b[38;5;132;01m{0}\u001b[39;00m\u001b[38;5;124m?\u001b[39m\u001b[38;5;124m\"\u001b[39m)\n\u001b[1;32m    390\u001b[0m     error \u001b[38;5;241m=\u001b[39m error\u001b[38;5;241m.\u001b[39mformat(to_native_string(url, \u001b[38;5;124m'\u001b[39m\u001b[38;5;124mutf8\u001b[39m\u001b[38;5;124m'\u001b[39m))\n\u001b[0;32m--> 392\u001b[0m     \u001b[38;5;28;01mraise\u001b[39;00m MissingSchema(error)\n\u001b[1;32m    394\u001b[0m \u001b[38;5;28;01mif\u001b[39;00m \u001b[38;5;129;01mnot\u001b[39;00m host:\n\u001b[1;32m    395\u001b[0m     \u001b[38;5;28;01mraise\u001b[39;00m InvalidURL(\u001b[38;5;124m\"\u001b[39m\u001b[38;5;124mInvalid URL \u001b[39m\u001b[38;5;132;01m%r\u001b[39;00m\u001b[38;5;124m: No host supplied\u001b[39m\u001b[38;5;124m\"\u001b[39m \u001b[38;5;241m%\u001b[39m url)\n",
      "\u001b[0;31mMissingSchema\u001b[0m: Invalid URL '': No scheme supplied. Perhaps you meant http://?"
     ]
    }
   ],
   "source": [
    "info_m = []\n",
    "for n in med_list:\n",
    "    l = process_repo(n)\n",
    "    info_m.append(l)"
   ]
  },
  {
   "cell_type": "code",
   "execution_count": null,
   "id": "b1af6fe3",
   "metadata": {},
   "outputs": [],
   "source": []
  }
 ],
 "metadata": {
  "kernelspec": {
   "display_name": "Python 3 (ipykernel)",
   "language": "python",
   "name": "python3"
  },
  "language_info": {
   "codemirror_mode": {
    "name": "ipython",
    "version": 3
   },
   "file_extension": ".py",
   "mimetype": "text/x-python",
   "name": "python",
   "nbconvert_exporter": "python",
   "pygments_lexer": "ipython3",
   "version": "3.9.12"
  }
 },
 "nbformat": 4,
 "nbformat_minor": 5
}
